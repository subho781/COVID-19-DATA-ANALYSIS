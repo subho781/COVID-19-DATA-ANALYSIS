{
 "cells": [
  {
   "cell_type": "markdown",
   "metadata": {
    "id": "9tE1teehXTD-"
   },
   "source": [
    "**Problem : Corona-Virus(COVID-19)**\n",
    "\n",
    "---\n",
    "Coronavirus disease (COVID-19) is an infectious disease caused by the SARS-CoV-2 virus. Many people infected with the virus and experienced mild to moderate respiratory illness and recovered without requiring special treatment. However, some will become seriously ill and require medical attention. Dataset related to this virus has been analysed to find out the latent relationship among different wave, mortality and infection rate of several countries. This analysis may help to prepare our country for next wave or any other fatal disease.."
   ]
  },
  {
   "cell_type": "markdown",
   "metadata": {
    "id": "0R-pz57uanxp"
   },
   "source": [
    "**DataSet :** I have collect this dataset from **ourworlddata.org** to analysis the COVID details from January 2020 to till now."
   ]
  },
  {
   "cell_type": "markdown",
   "metadata": {
    "id": "CwdqwgD1cfk2"
   },
   "source": [
    "**Data Analysis**\n",
    "\n",
    "**Language :Python**\n",
    "\n",
    "Python is a high-level, general-purpose programming language. Its design philosophy emphasizes code readability with the use of significant indentation. Its language constructs and object-oriented approach aim to help programmers write clear, logical code for small- and large-scale projects.\n",
    "\n"
   ]
  },
  {
   "cell_type": "markdown",
   "metadata": {
    "id": "2FpRpRBxeFD5"
   },
   "source": [
    "**Packages Used :** Numpy , Pandas , Matplotlib , Seaborn\n",
    "\n",
    "**Numpy:** NumPy is a Python library used for working with arrays. It also has functions for working in domain of linear algebra, fourier transform, and matrices.\n",
    "\n",
    "**Pandas:** Pandas is a Python library for data analysis. Pandas' primary data structures are DataFrames, which make it easier to perform analytical tasks in Python.\n",
    "\n",
    "**Matplotlib :** Matplotlib is one of the most popular Python packages used for data visualization. It is a cross-platform library for making 2D plots from data in arrays.\n",
    "\n",
    "**Seaborn :** Seaborn is a Python data visualization library based on matplotlib. It provides a high-level interface for drawing attractive and informative statistical graphics.\n",
    "\n"
   ]
  },
  {
   "cell_type": "code",
   "execution_count": 50,
   "metadata": {
    "id": "gt9FzH8Qvvuz"
   },
   "outputs": [],
   "source": [
    "import numpy as np\n",
    "import pandas as pd\n",
    "import matplotlib.pyplot as plt\n",
    "import seaborn as sns\n",
    "# Set style & figures inline\n",
    "sns.set()\n",
    "%matplotlib inline\n",
    "from dateutil.parser import parse"
   ]
  },
  {
   "cell_type": "markdown",
   "metadata": {
    "id": "BufjX1whvlDw"
   },
   "source": [
    "# **WORLD TOTAL WAVE ANALYSIS**"
   ]
  },
  {
   "cell_type": "markdown",
   "metadata": {
    "id": "WqZAd5Q-P08o"
   },
   "source": [
    "Here I have shown the sample of World detail of COVID-19 which includes the iso-code,continent ,location-country,date wise total cases , total deaths, facilities details etc.. "
   ]
  },
  {
   "cell_type": "code",
   "execution_count": 33,
   "metadata": {
    "colab": {
     "base_uri": "https://localhost:8080/",
     "height": 661
    },
    "id": "el0GzVRtxZlP",
    "outputId": "dc0307e7-7d28-4404-d9a3-533a49732b33"
   },
   "outputs": [
    {
     "data": {
      "text/html": [
       "<div>\n",
       "<style scoped>\n",
       "    .dataframe tbody tr th:only-of-type {\n",
       "        vertical-align: middle;\n",
       "    }\n",
       "\n",
       "    .dataframe tbody tr th {\n",
       "        vertical-align: top;\n",
       "    }\n",
       "\n",
       "    .dataframe thead th {\n",
       "        text-align: right;\n",
       "    }\n",
       "</style>\n",
       "<table border=\"1\" class=\"dataframe\">\n",
       "  <thead>\n",
       "    <tr style=\"text-align: right;\">\n",
       "      <th></th>\n",
       "      <th>iso_code</th>\n",
       "      <th>continent</th>\n",
       "      <th>location</th>\n",
       "      <th>date</th>\n",
       "      <th>total_cases</th>\n",
       "      <th>new_cases</th>\n",
       "      <th>new_cases_smoothed</th>\n",
       "      <th>total_deaths</th>\n",
       "      <th>new_deaths</th>\n",
       "      <th>new_deaths_smoothed</th>\n",
       "      <th>...</th>\n",
       "      <th>female_smokers</th>\n",
       "      <th>male_smokers</th>\n",
       "      <th>handwashing_facilities</th>\n",
       "      <th>hospital_beds_per_thousand</th>\n",
       "      <th>life_expectancy</th>\n",
       "      <th>human_development_index</th>\n",
       "      <th>excess_mortality_cumulative_absolute</th>\n",
       "      <th>excess_mortality_cumulative</th>\n",
       "      <th>excess_mortality</th>\n",
       "      <th>excess_mortality_cumulative_per_million</th>\n",
       "    </tr>\n",
       "  </thead>\n",
       "  <tbody>\n",
       "    <tr>\n",
       "      <th>0</th>\n",
       "      <td>AFG</td>\n",
       "      <td>Asia</td>\n",
       "      <td>Afghanistan</td>\n",
       "      <td>2020-02-24</td>\n",
       "      <td>5.0</td>\n",
       "      <td>5.0</td>\n",
       "      <td>NaN</td>\n",
       "      <td>NaN</td>\n",
       "      <td>NaN</td>\n",
       "      <td>NaN</td>\n",
       "      <td>...</td>\n",
       "      <td>NaN</td>\n",
       "      <td>NaN</td>\n",
       "      <td>37.746</td>\n",
       "      <td>0.5</td>\n",
       "      <td>64.83</td>\n",
       "      <td>0.511</td>\n",
       "      <td>NaN</td>\n",
       "      <td>NaN</td>\n",
       "      <td>NaN</td>\n",
       "      <td>NaN</td>\n",
       "    </tr>\n",
       "    <tr>\n",
       "      <th>1</th>\n",
       "      <td>AFG</td>\n",
       "      <td>Asia</td>\n",
       "      <td>Afghanistan</td>\n",
       "      <td>2020-02-25</td>\n",
       "      <td>5.0</td>\n",
       "      <td>0.0</td>\n",
       "      <td>NaN</td>\n",
       "      <td>NaN</td>\n",
       "      <td>NaN</td>\n",
       "      <td>NaN</td>\n",
       "      <td>...</td>\n",
       "      <td>NaN</td>\n",
       "      <td>NaN</td>\n",
       "      <td>37.746</td>\n",
       "      <td>0.5</td>\n",
       "      <td>64.83</td>\n",
       "      <td>0.511</td>\n",
       "      <td>NaN</td>\n",
       "      <td>NaN</td>\n",
       "      <td>NaN</td>\n",
       "      <td>NaN</td>\n",
       "    </tr>\n",
       "    <tr>\n",
       "      <th>2</th>\n",
       "      <td>AFG</td>\n",
       "      <td>Asia</td>\n",
       "      <td>Afghanistan</td>\n",
       "      <td>2020-02-26</td>\n",
       "      <td>5.0</td>\n",
       "      <td>0.0</td>\n",
       "      <td>NaN</td>\n",
       "      <td>NaN</td>\n",
       "      <td>NaN</td>\n",
       "      <td>NaN</td>\n",
       "      <td>...</td>\n",
       "      <td>NaN</td>\n",
       "      <td>NaN</td>\n",
       "      <td>37.746</td>\n",
       "      <td>0.5</td>\n",
       "      <td>64.83</td>\n",
       "      <td>0.511</td>\n",
       "      <td>NaN</td>\n",
       "      <td>NaN</td>\n",
       "      <td>NaN</td>\n",
       "      <td>NaN</td>\n",
       "    </tr>\n",
       "    <tr>\n",
       "      <th>3</th>\n",
       "      <td>AFG</td>\n",
       "      <td>Asia</td>\n",
       "      <td>Afghanistan</td>\n",
       "      <td>2020-02-27</td>\n",
       "      <td>5.0</td>\n",
       "      <td>0.0</td>\n",
       "      <td>NaN</td>\n",
       "      <td>NaN</td>\n",
       "      <td>NaN</td>\n",
       "      <td>NaN</td>\n",
       "      <td>...</td>\n",
       "      <td>NaN</td>\n",
       "      <td>NaN</td>\n",
       "      <td>37.746</td>\n",
       "      <td>0.5</td>\n",
       "      <td>64.83</td>\n",
       "      <td>0.511</td>\n",
       "      <td>NaN</td>\n",
       "      <td>NaN</td>\n",
       "      <td>NaN</td>\n",
       "      <td>NaN</td>\n",
       "    </tr>\n",
       "    <tr>\n",
       "      <th>4</th>\n",
       "      <td>AFG</td>\n",
       "      <td>Asia</td>\n",
       "      <td>Afghanistan</td>\n",
       "      <td>2020-02-28</td>\n",
       "      <td>5.0</td>\n",
       "      <td>0.0</td>\n",
       "      <td>NaN</td>\n",
       "      <td>NaN</td>\n",
       "      <td>NaN</td>\n",
       "      <td>NaN</td>\n",
       "      <td>...</td>\n",
       "      <td>NaN</td>\n",
       "      <td>NaN</td>\n",
       "      <td>37.746</td>\n",
       "      <td>0.5</td>\n",
       "      <td>64.83</td>\n",
       "      <td>0.511</td>\n",
       "      <td>NaN</td>\n",
       "      <td>NaN</td>\n",
       "      <td>NaN</td>\n",
       "      <td>NaN</td>\n",
       "    </tr>\n",
       "    <tr>\n",
       "      <th>...</th>\n",
       "      <td>...</td>\n",
       "      <td>...</td>\n",
       "      <td>...</td>\n",
       "      <td>...</td>\n",
       "      <td>...</td>\n",
       "      <td>...</td>\n",
       "      <td>...</td>\n",
       "      <td>...</td>\n",
       "      <td>...</td>\n",
       "      <td>...</td>\n",
       "      <td>...</td>\n",
       "      <td>...</td>\n",
       "      <td>...</td>\n",
       "      <td>...</td>\n",
       "      <td>...</td>\n",
       "      <td>...</td>\n",
       "      <td>...</td>\n",
       "      <td>...</td>\n",
       "      <td>...</td>\n",
       "      <td>...</td>\n",
       "      <td>...</td>\n",
       "    </tr>\n",
       "    <tr>\n",
       "      <th>192296</th>\n",
       "      <td>ZWE</td>\n",
       "      <td>Africa</td>\n",
       "      <td>Zimbabwe</td>\n",
       "      <td>2022-06-03</td>\n",
       "      <td>253236.0</td>\n",
       "      <td>185.0</td>\n",
       "      <td>182.429</td>\n",
       "      <td>5509.0</td>\n",
       "      <td>1.0</td>\n",
       "      <td>1.286</td>\n",
       "      <td>...</td>\n",
       "      <td>1.6</td>\n",
       "      <td>30.7</td>\n",
       "      <td>36.791</td>\n",
       "      <td>1.7</td>\n",
       "      <td>61.49</td>\n",
       "      <td>0.571</td>\n",
       "      <td>NaN</td>\n",
       "      <td>NaN</td>\n",
       "      <td>NaN</td>\n",
       "      <td>NaN</td>\n",
       "    </tr>\n",
       "    <tr>\n",
       "      <th>192297</th>\n",
       "      <td>ZWE</td>\n",
       "      <td>Africa</td>\n",
       "      <td>Zimbabwe</td>\n",
       "      <td>2022-06-04</td>\n",
       "      <td>253236.0</td>\n",
       "      <td>0.0</td>\n",
       "      <td>182.429</td>\n",
       "      <td>5509.0</td>\n",
       "      <td>0.0</td>\n",
       "      <td>1.286</td>\n",
       "      <td>...</td>\n",
       "      <td>1.6</td>\n",
       "      <td>30.7</td>\n",
       "      <td>36.791</td>\n",
       "      <td>1.7</td>\n",
       "      <td>61.49</td>\n",
       "      <td>0.571</td>\n",
       "      <td>NaN</td>\n",
       "      <td>NaN</td>\n",
       "      <td>NaN</td>\n",
       "      <td>NaN</td>\n",
       "    </tr>\n",
       "    <tr>\n",
       "      <th>192298</th>\n",
       "      <td>ZWE</td>\n",
       "      <td>Africa</td>\n",
       "      <td>Zimbabwe</td>\n",
       "      <td>2022-06-05</td>\n",
       "      <td>253338.0</td>\n",
       "      <td>102.0</td>\n",
       "      <td>178.000</td>\n",
       "      <td>5510.0</td>\n",
       "      <td>1.0</td>\n",
       "      <td>1.429</td>\n",
       "      <td>...</td>\n",
       "      <td>1.6</td>\n",
       "      <td>30.7</td>\n",
       "      <td>36.791</td>\n",
       "      <td>1.7</td>\n",
       "      <td>61.49</td>\n",
       "      <td>0.571</td>\n",
       "      <td>NaN</td>\n",
       "      <td>NaN</td>\n",
       "      <td>NaN</td>\n",
       "      <td>NaN</td>\n",
       "    </tr>\n",
       "    <tr>\n",
       "      <th>192299</th>\n",
       "      <td>ZWE</td>\n",
       "      <td>Africa</td>\n",
       "      <td>Zimbabwe</td>\n",
       "      <td>2022-06-06</td>\n",
       "      <td>253508.0</td>\n",
       "      <td>170.0</td>\n",
       "      <td>202.286</td>\n",
       "      <td>5513.0</td>\n",
       "      <td>3.0</td>\n",
       "      <td>1.857</td>\n",
       "      <td>...</td>\n",
       "      <td>1.6</td>\n",
       "      <td>30.7</td>\n",
       "      <td>36.791</td>\n",
       "      <td>1.7</td>\n",
       "      <td>61.49</td>\n",
       "      <td>0.571</td>\n",
       "      <td>NaN</td>\n",
       "      <td>NaN</td>\n",
       "      <td>NaN</td>\n",
       "      <td>NaN</td>\n",
       "    </tr>\n",
       "    <tr>\n",
       "      <th>192300</th>\n",
       "      <td>ZWE</td>\n",
       "      <td>Africa</td>\n",
       "      <td>Zimbabwe</td>\n",
       "      <td>2022-06-07</td>\n",
       "      <td>253637.0</td>\n",
       "      <td>129.0</td>\n",
       "      <td>177.000</td>\n",
       "      <td>5515.0</td>\n",
       "      <td>2.0</td>\n",
       "      <td>1.714</td>\n",
       "      <td>...</td>\n",
       "      <td>1.6</td>\n",
       "      <td>30.7</td>\n",
       "      <td>36.791</td>\n",
       "      <td>1.7</td>\n",
       "      <td>61.49</td>\n",
       "      <td>0.571</td>\n",
       "      <td>NaN</td>\n",
       "      <td>NaN</td>\n",
       "      <td>NaN</td>\n",
       "      <td>NaN</td>\n",
       "    </tr>\n",
       "  </tbody>\n",
       "</table>\n",
       "<p>192301 rows × 67 columns</p>\n",
       "</div>"
      ],
      "text/plain": [
       "       iso_code continent     location        date  total_cases  new_cases  \\\n",
       "0           AFG      Asia  Afghanistan  2020-02-24          5.0        5.0   \n",
       "1           AFG      Asia  Afghanistan  2020-02-25          5.0        0.0   \n",
       "2           AFG      Asia  Afghanistan  2020-02-26          5.0        0.0   \n",
       "3           AFG      Asia  Afghanistan  2020-02-27          5.0        0.0   \n",
       "4           AFG      Asia  Afghanistan  2020-02-28          5.0        0.0   \n",
       "...         ...       ...          ...         ...          ...        ...   \n",
       "192296      ZWE    Africa     Zimbabwe  2022-06-03     253236.0      185.0   \n",
       "192297      ZWE    Africa     Zimbabwe  2022-06-04     253236.0        0.0   \n",
       "192298      ZWE    Africa     Zimbabwe  2022-06-05     253338.0      102.0   \n",
       "192299      ZWE    Africa     Zimbabwe  2022-06-06     253508.0      170.0   \n",
       "192300      ZWE    Africa     Zimbabwe  2022-06-07     253637.0      129.0   \n",
       "\n",
       "        new_cases_smoothed  total_deaths  new_deaths  new_deaths_smoothed  \\\n",
       "0                      NaN           NaN         NaN                  NaN   \n",
       "1                      NaN           NaN         NaN                  NaN   \n",
       "2                      NaN           NaN         NaN                  NaN   \n",
       "3                      NaN           NaN         NaN                  NaN   \n",
       "4                      NaN           NaN         NaN                  NaN   \n",
       "...                    ...           ...         ...                  ...   \n",
       "192296             182.429        5509.0         1.0                1.286   \n",
       "192297             182.429        5509.0         0.0                1.286   \n",
       "192298             178.000        5510.0         1.0                1.429   \n",
       "192299             202.286        5513.0         3.0                1.857   \n",
       "192300             177.000        5515.0         2.0                1.714   \n",
       "\n",
       "        ...  female_smokers  male_smokers  handwashing_facilities  \\\n",
       "0       ...             NaN           NaN                  37.746   \n",
       "1       ...             NaN           NaN                  37.746   \n",
       "2       ...             NaN           NaN                  37.746   \n",
       "3       ...             NaN           NaN                  37.746   \n",
       "4       ...             NaN           NaN                  37.746   \n",
       "...     ...             ...           ...                     ...   \n",
       "192296  ...             1.6          30.7                  36.791   \n",
       "192297  ...             1.6          30.7                  36.791   \n",
       "192298  ...             1.6          30.7                  36.791   \n",
       "192299  ...             1.6          30.7                  36.791   \n",
       "192300  ...             1.6          30.7                  36.791   \n",
       "\n",
       "        hospital_beds_per_thousand  life_expectancy  human_development_index  \\\n",
       "0                              0.5            64.83                    0.511   \n",
       "1                              0.5            64.83                    0.511   \n",
       "2                              0.5            64.83                    0.511   \n",
       "3                              0.5            64.83                    0.511   \n",
       "4                              0.5            64.83                    0.511   \n",
       "...                            ...              ...                      ...   \n",
       "192296                         1.7            61.49                    0.571   \n",
       "192297                         1.7            61.49                    0.571   \n",
       "192298                         1.7            61.49                    0.571   \n",
       "192299                         1.7            61.49                    0.571   \n",
       "192300                         1.7            61.49                    0.571   \n",
       "\n",
       "        excess_mortality_cumulative_absolute  excess_mortality_cumulative  \\\n",
       "0                                        NaN                          NaN   \n",
       "1                                        NaN                          NaN   \n",
       "2                                        NaN                          NaN   \n",
       "3                                        NaN                          NaN   \n",
       "4                                        NaN                          NaN   \n",
       "...                                      ...                          ...   \n",
       "192296                                   NaN                          NaN   \n",
       "192297                                   NaN                          NaN   \n",
       "192298                                   NaN                          NaN   \n",
       "192299                                   NaN                          NaN   \n",
       "192300                                   NaN                          NaN   \n",
       "\n",
       "        excess_mortality  excess_mortality_cumulative_per_million  \n",
       "0                    NaN                                      NaN  \n",
       "1                    NaN                                      NaN  \n",
       "2                    NaN                                      NaN  \n",
       "3                    NaN                                      NaN  \n",
       "4                    NaN                                      NaN  \n",
       "...                  ...                                      ...  \n",
       "192296               NaN                                      NaN  \n",
       "192297               NaN                                      NaN  \n",
       "192298               NaN                                      NaN  \n",
       "192299               NaN                                      NaN  \n",
       "192300               NaN                                      NaN  \n",
       "\n",
       "[192301 rows x 67 columns]"
      ]
     },
     "metadata": {},
     "output_type": "display_data"
    }
   ],
   "source": [
    "orig_df = pd.read_csv('https://covid.ourworldindata.org/data/owid-covid-data.csv')\n",
    "display(orig_df.head())"
   ]
  },
  {
   "cell_type": "markdown",
   "metadata": {
    "id": "qz7FZgffQq_e"
   },
   "source": [
    "**Infected Cases :** I have selected date and total_cases column to show the infected cases date wise."
   ]
  },
  {
   "cell_type": "code",
   "execution_count": 34,
   "metadata": {
    "colab": {
     "base_uri": "https://localhost:8080/",
     "height": 206
    },
    "id": "86v7gbzwxnRv",
    "outputId": "49fb7934-52c5-4d4c-90ac-840227672411"
   },
   "outputs": [
    {
     "data": {
      "text/html": [
       "<div>\n",
       "<style scoped>\n",
       "    .dataframe tbody tr th:only-of-type {\n",
       "        vertical-align: middle;\n",
       "    }\n",
       "\n",
       "    .dataframe tbody tr th {\n",
       "        vertical-align: top;\n",
       "    }\n",
       "\n",
       "    .dataframe thead th {\n",
       "        text-align: right;\n",
       "    }\n",
       "</style>\n",
       "<table border=\"1\" class=\"dataframe\">\n",
       "  <thead>\n",
       "    <tr style=\"text-align: right;\">\n",
       "      <th></th>\n",
       "      <th>date</th>\n",
       "      <th>total_cases</th>\n",
       "    </tr>\n",
       "  </thead>\n",
       "  <tbody>\n",
       "    <tr>\n",
       "      <th>192296</th>\n",
       "      <td>2022-06-03</td>\n",
       "      <td>253236.0</td>\n",
       "    </tr>\n",
       "    <tr>\n",
       "      <th>192297</th>\n",
       "      <td>2022-06-04</td>\n",
       "      <td>253236.0</td>\n",
       "    </tr>\n",
       "    <tr>\n",
       "      <th>192298</th>\n",
       "      <td>2022-06-05</td>\n",
       "      <td>253338.0</td>\n",
       "    </tr>\n",
       "    <tr>\n",
       "      <th>192299</th>\n",
       "      <td>2022-06-06</td>\n",
       "      <td>253508.0</td>\n",
       "    </tr>\n",
       "    <tr>\n",
       "      <th>192300</th>\n",
       "      <td>2022-06-07</td>\n",
       "      <td>253637.0</td>\n",
       "    </tr>\n",
       "  </tbody>\n",
       "</table>\n",
       "</div>"
      ],
      "text/plain": [
       "              date  total_cases\n",
       "192296  2022-06-03     253236.0\n",
       "192297  2022-06-04     253236.0\n",
       "192298  2022-06-05     253338.0\n",
       "192299  2022-06-06     253508.0\n",
       "192300  2022-06-07     253637.0"
      ]
     },
     "metadata": {},
     "output_type": "display_data"
    }
   ],
   "source": [
    "wave_total = orig_df[['date', 'total_cases']]\n",
    "display(wave_total.tail())"
   ]
  },
  {
   "cell_type": "markdown",
   "metadata": {
    "id": "lqTM7LA7Rd0S"
   },
   "source": [
    "**parse :** This module offers a generic date/time string parser which is able to parse most known formats to represent a date and/or time."
   ]
  },
  {
   "cell_type": "markdown",
   "metadata": {},
   "source": [
    "# Number of confirmed cases of Continent"
   ]
  },
  {
   "cell_type": "code",
   "execution_count": 43,
   "metadata": {},
   "outputs": [
    {
     "data": {
      "text/plain": [
       "Africa           44588\n",
       "Europe           41878\n",
       "Asia             41409\n",
       "North America    29835\n",
       "Oceania          12674\n",
       "South America    10739\n",
       "Name: continent, dtype: int64"
      ]
     },
     "execution_count": 43,
     "metadata": {},
     "output_type": "execute_result"
    }
   ],
   "source": [
    "dftotal=orig_df['continent'].value_counts()\n",
    "dftotal"
   ]
  },
  {
   "cell_type": "code",
   "execution_count": 41,
   "metadata": {},
   "outputs": [
    {
     "data": {
      "text/plain": [
       "count     181123\n",
       "unique         6\n",
       "top       Africa\n",
       "freq       44588\n",
       "Name: continent, dtype: object"
      ]
     },
     "execution_count": 41,
     "metadata": {},
     "output_type": "execute_result"
    }
   ],
   "source": [
    "orig_df['continent'].describe()"
   ]
  },
  {
   "cell_type": "code",
   "execution_count": 51,
   "metadata": {},
   "outputs": [
    {
     "data": {
      "text/html": [
       "<div>\n",
       "<style scoped>\n",
       "    .dataframe tbody tr th:only-of-type {\n",
       "        vertical-align: middle;\n",
       "    }\n",
       "\n",
       "    .dataframe tbody tr th {\n",
       "        vertical-align: top;\n",
       "    }\n",
       "\n",
       "    .dataframe thead th {\n",
       "        text-align: right;\n",
       "    }\n",
       "</style>\n",
       "<table border=\"1\" class=\"dataframe\">\n",
       "  <thead>\n",
       "    <tr style=\"text-align: right;\">\n",
       "      <th></th>\n",
       "      <th>total_cases</th>\n",
       "      <th>new_cases</th>\n",
       "      <th>new_cases_smoothed</th>\n",
       "      <th>total_deaths</th>\n",
       "      <th>new_deaths</th>\n",
       "      <th>new_deaths_smoothed</th>\n",
       "      <th>total_cases_per_million</th>\n",
       "      <th>new_cases_per_million</th>\n",
       "      <th>new_cases_smoothed_per_million</th>\n",
       "      <th>total_deaths_per_million</th>\n",
       "      <th>...</th>\n",
       "      <th>female_smokers</th>\n",
       "      <th>male_smokers</th>\n",
       "      <th>handwashing_facilities</th>\n",
       "      <th>hospital_beds_per_thousand</th>\n",
       "      <th>life_expectancy</th>\n",
       "      <th>human_development_index</th>\n",
       "      <th>excess_mortality_cumulative_absolute</th>\n",
       "      <th>excess_mortality_cumulative</th>\n",
       "      <th>excess_mortality</th>\n",
       "      <th>excess_mortality_cumulative_per_million</th>\n",
       "    </tr>\n",
       "    <tr>\n",
       "      <th>continent</th>\n",
       "      <th></th>\n",
       "      <th></th>\n",
       "      <th></th>\n",
       "      <th></th>\n",
       "      <th></th>\n",
       "      <th></th>\n",
       "      <th></th>\n",
       "      <th></th>\n",
       "      <th></th>\n",
       "      <th></th>\n",
       "      <th></th>\n",
       "      <th></th>\n",
       "      <th></th>\n",
       "      <th></th>\n",
       "      <th></th>\n",
       "      <th></th>\n",
       "      <th></th>\n",
       "      <th></th>\n",
       "      <th></th>\n",
       "      <th></th>\n",
       "      <th></th>\n",
       "    </tr>\n",
       "  </thead>\n",
       "  <tbody>\n",
       "    <tr>\n",
       "      <th>Africa</th>\n",
       "      <td>4.302338e+09</td>\n",
       "      <td>11899881.0</td>\n",
       "      <td>1.188031e+07</td>\n",
       "      <td>103128582.0</td>\n",
       "      <td>254124.0</td>\n",
       "      <td>253685.473</td>\n",
       "      <td>4.331687e+08</td>\n",
       "      <td>1.498211e+06</td>\n",
       "      <td>1.492132e+06</td>\n",
       "      <td>6.136470e+06</td>\n",
       "      <td>...</td>\n",
       "      <td>75660.6</td>\n",
       "      <td>804308.2</td>\n",
       "      <td>906751.060</td>\n",
       "      <td>49118.140</td>\n",
       "      <td>2870991.78</td>\n",
       "      <td>24216.253</td>\n",
       "      <td>18404286.0</td>\n",
       "      <td>1993.39</td>\n",
       "      <td>4037.77</td>\n",
       "      <td>2.599634e+05</td>\n",
       "    </tr>\n",
       "    <tr>\n",
       "      <th>Asia</th>\n",
       "      <td>4.185639e+10</td>\n",
       "      <td>153328753.0</td>\n",
       "      <td>1.529417e+08</td>\n",
       "      <td>544527461.0</td>\n",
       "      <td>1430400.0</td>\n",
       "      <td>1427256.084</td>\n",
       "      <td>1.288312e+09</td>\n",
       "      <td>5.278082e+06</td>\n",
       "      <td>5.258948e+06</td>\n",
       "      <td>1.090583e+07</td>\n",
       "      <td>...</td>\n",
       "      <td>152639.5</td>\n",
       "      <td>1263302.5</td>\n",
       "      <td>1516733.469</td>\n",
       "      <td>114239.500</td>\n",
       "      <td>3073038.01</td>\n",
       "      <td>28782.873</td>\n",
       "      <td>17970422.2</td>\n",
       "      <td>7699.58</td>\n",
       "      <td>13720.81</td>\n",
       "      <td>5.449464e+05</td>\n",
       "    </tr>\n",
       "    <tr>\n",
       "      <th>Europe</th>\n",
       "      <td>4.606084e+10</td>\n",
       "      <td>199242984.0</td>\n",
       "      <td>1.983688e+08</td>\n",
       "      <td>733104428.0</td>\n",
       "      <td>1843622.0</td>\n",
       "      <td>1839378.955</td>\n",
       "      <td>3.692226e+09</td>\n",
       "      <td>1.610454e+07</td>\n",
       "      <td>1.605857e+07</td>\n",
       "      <td>4.548692e+07</td>\n",
       "      <td>...</td>\n",
       "      <td>784189.9</td>\n",
       "      <td>1190899.2</td>\n",
       "      <td>233056.965</td>\n",
       "      <td>185766.161</td>\n",
       "      <td>3201830.33</td>\n",
       "      <td>30969.048</td>\n",
       "      <td>87171245.1</td>\n",
       "      <td>26048.51</td>\n",
       "      <td>48389.57</td>\n",
       "      <td>4.597216e+06</td>\n",
       "    </tr>\n",
       "    <tr>\n",
       "      <th>North America</th>\n",
       "      <td>3.216025e+10</td>\n",
       "      <td>100422639.0</td>\n",
       "      <td>1.000925e+08</td>\n",
       "      <td>617631125.0</td>\n",
       "      <td>1444071.0</td>\n",
       "      <td>1442223.598</td>\n",
       "      <td>1.197086e+09</td>\n",
       "      <td>5.648011e+06</td>\n",
       "      <td>5.604761e+06</td>\n",
       "      <td>1.413053e+07</td>\n",
       "      <td>...</td>\n",
       "      <td>75818.5</td>\n",
       "      <td>222443.7</td>\n",
       "      <td>831308.003</td>\n",
       "      <td>43791.700</td>\n",
       "      <td>2290521.91</td>\n",
       "      <td>14343.283</td>\n",
       "      <td>99420922.9</td>\n",
       "      <td>7688.60</td>\n",
       "      <td>12612.04</td>\n",
       "      <td>7.096672e+05</td>\n",
       "    </tr>\n",
       "    <tr>\n",
       "      <th>Oceania</th>\n",
       "      <td>8.526890e+08</td>\n",
       "      <td>9069722.0</td>\n",
       "      <td>8.898300e+06</td>\n",
       "      <td>2253473.0</td>\n",
       "      <td>12794.0</td>\n",
       "      <td>12574.873</td>\n",
       "      <td>2.556708e+08</td>\n",
       "      <td>1.999863e+06</td>\n",
       "      <td>1.977766e+06</td>\n",
       "      <td>1.725665e+06</td>\n",
       "      <td>...</td>\n",
       "      <td>99259.3</td>\n",
       "      <td>200761.5</td>\n",
       "      <td>99039.259</td>\n",
       "      <td>15414.470</td>\n",
       "      <td>933732.50</td>\n",
       "      <td>5407.033</td>\n",
       "      <td>-346302.0</td>\n",
       "      <td>-576.15</td>\n",
       "      <td>255.06</td>\n",
       "      <td>-4.311547e+04</td>\n",
       "    </tr>\n",
       "    <tr>\n",
       "      <th>South America</th>\n",
       "      <td>2.075096e+10</td>\n",
       "      <td>57961164.0</td>\n",
       "      <td>5.770215e+07</td>\n",
       "      <td>588257352.0</td>\n",
       "      <td>1275418.0</td>\n",
       "      <td>1274071.141</td>\n",
       "      <td>4.937979e+08</td>\n",
       "      <td>1.981699e+06</td>\n",
       "      <td>1.974630e+06</td>\n",
       "      <td>1.305235e+07</td>\n",
       "      <td>...</td>\n",
       "      <td>82483.7</td>\n",
       "      <td>164592.2</td>\n",
       "      <td>325449.328</td>\n",
       "      <td>20762.100</td>\n",
       "      <td>811710.09</td>\n",
       "      <td>7596.288</td>\n",
       "      <td>45599951.7</td>\n",
       "      <td>21189.01</td>\n",
       "      <td>23175.49</td>\n",
       "      <td>1.254754e+06</td>\n",
       "    </tr>\n",
       "  </tbody>\n",
       "</table>\n",
       "<p>6 rows × 62 columns</p>\n",
       "</div>"
      ],
      "text/plain": [
       "                total_cases    new_cases  new_cases_smoothed  total_deaths  \\\n",
       "continent                                                                    \n",
       "Africa         4.302338e+09   11899881.0        1.188031e+07   103128582.0   \n",
       "Asia           4.185639e+10  153328753.0        1.529417e+08   544527461.0   \n",
       "Europe         4.606084e+10  199242984.0        1.983688e+08   733104428.0   \n",
       "North America  3.216025e+10  100422639.0        1.000925e+08   617631125.0   \n",
       "Oceania        8.526890e+08    9069722.0        8.898300e+06     2253473.0   \n",
       "South America  2.075096e+10   57961164.0        5.770215e+07   588257352.0   \n",
       "\n",
       "               new_deaths  new_deaths_smoothed  total_cases_per_million  \\\n",
       "continent                                                                 \n",
       "Africa           254124.0           253685.473             4.331687e+08   \n",
       "Asia            1430400.0          1427256.084             1.288312e+09   \n",
       "Europe          1843622.0          1839378.955             3.692226e+09   \n",
       "North America   1444071.0          1442223.598             1.197086e+09   \n",
       "Oceania           12794.0            12574.873             2.556708e+08   \n",
       "South America   1275418.0          1274071.141             4.937979e+08   \n",
       "\n",
       "               new_cases_per_million  new_cases_smoothed_per_million  \\\n",
       "continent                                                              \n",
       "Africa                  1.498211e+06                    1.492132e+06   \n",
       "Asia                    5.278082e+06                    5.258948e+06   \n",
       "Europe                  1.610454e+07                    1.605857e+07   \n",
       "North America           5.648011e+06                    5.604761e+06   \n",
       "Oceania                 1.999863e+06                    1.977766e+06   \n",
       "South America           1.981699e+06                    1.974630e+06   \n",
       "\n",
       "               total_deaths_per_million  ...  female_smokers  male_smokers  \\\n",
       "continent                                ...                                 \n",
       "Africa                     6.136470e+06  ...         75660.6      804308.2   \n",
       "Asia                       1.090583e+07  ...        152639.5     1263302.5   \n",
       "Europe                     4.548692e+07  ...        784189.9     1190899.2   \n",
       "North America              1.413053e+07  ...         75818.5      222443.7   \n",
       "Oceania                    1.725665e+06  ...         99259.3      200761.5   \n",
       "South America              1.305235e+07  ...         82483.7      164592.2   \n",
       "\n",
       "               handwashing_facilities  hospital_beds_per_thousand  \\\n",
       "continent                                                           \n",
       "Africa                     906751.060                   49118.140   \n",
       "Asia                      1516733.469                  114239.500   \n",
       "Europe                     233056.965                  185766.161   \n",
       "North America              831308.003                   43791.700   \n",
       "Oceania                     99039.259                   15414.470   \n",
       "South America              325449.328                   20762.100   \n",
       "\n",
       "               life_expectancy  human_development_index  \\\n",
       "continent                                                 \n",
       "Africa              2870991.78                24216.253   \n",
       "Asia                3073038.01                28782.873   \n",
       "Europe              3201830.33                30969.048   \n",
       "North America       2290521.91                14343.283   \n",
       "Oceania              933732.50                 5407.033   \n",
       "South America        811710.09                 7596.288   \n",
       "\n",
       "               excess_mortality_cumulative_absolute  \\\n",
       "continent                                             \n",
       "Africa                                   18404286.0   \n",
       "Asia                                     17970422.2   \n",
       "Europe                                   87171245.1   \n",
       "North America                            99420922.9   \n",
       "Oceania                                   -346302.0   \n",
       "South America                            45599951.7   \n",
       "\n",
       "               excess_mortality_cumulative  excess_mortality  \\\n",
       "continent                                                      \n",
       "Africa                             1993.39           4037.77   \n",
       "Asia                               7699.58          13720.81   \n",
       "Europe                            26048.51          48389.57   \n",
       "North America                      7688.60          12612.04   \n",
       "Oceania                            -576.15            255.06   \n",
       "South America                     21189.01          23175.49   \n",
       "\n",
       "               excess_mortality_cumulative_per_million  \n",
       "continent                                               \n",
       "Africa                                    2.599634e+05  \n",
       "Asia                                      5.449464e+05  \n",
       "Europe                                    4.597216e+06  \n",
       "North America                             7.096672e+05  \n",
       "Oceania                                  -4.311547e+04  \n",
       "South America                             1.254754e+06  \n",
       "\n",
       "[6 rows x 62 columns]"
      ]
     },
     "execution_count": 51,
     "metadata": {},
     "output_type": "execute_result"
    }
   ],
   "source": [
    "confirmed_continent=orig_df.groupby(['continent']).sum()\n",
    "confirmed_continent"
   ]
  },
  {
   "cell_type": "code",
   "execution_count": 52,
   "metadata": {},
   "outputs": [
    {
     "data": {
      "text/plain": [
       "Index(['Africa', 'Asia', 'Europe', 'North America', 'Oceania',\n",
       "       'South America'],\n",
       "      dtype='object', name='continent')"
      ]
     },
     "execution_count": 52,
     "metadata": {},
     "output_type": "execute_result"
    }
   ],
   "source": [
    "confirmed_continent.index"
   ]
  },
  {
   "cell_type": "code",
   "execution_count": 61,
   "metadata": {},
   "outputs": [
    {
     "ename": "KeyError",
     "evalue": "'poi'",
     "output_type": "error",
     "traceback": [
      "\u001b[1;31m---------------------------------------------------------------------------\u001b[0m",
      "\u001b[1;31mKeyError\u001b[0m                                  Traceback (most recent call last)",
      "File \u001b[1;32mD:\\python\\lib\\site-packages\\pandas\\core\\indexes\\base.py:3621\u001b[0m, in \u001b[0;36mIndex.get_loc\u001b[1;34m(self, key, method, tolerance)\u001b[0m\n\u001b[0;32m   3620\u001b[0m \u001b[38;5;28;01mtry\u001b[39;00m:\n\u001b[1;32m-> 3621\u001b[0m     \u001b[38;5;28;01mreturn\u001b[39;00m \u001b[38;5;28;43mself\u001b[39;49m\u001b[38;5;241;43m.\u001b[39;49m\u001b[43m_engine\u001b[49m\u001b[38;5;241;43m.\u001b[39;49m\u001b[43mget_loc\u001b[49m\u001b[43m(\u001b[49m\u001b[43mcasted_key\u001b[49m\u001b[43m)\u001b[49m\n\u001b[0;32m   3622\u001b[0m \u001b[38;5;28;01mexcept\u001b[39;00m \u001b[38;5;167;01mKeyError\u001b[39;00m \u001b[38;5;28;01mas\u001b[39;00m err:\n",
      "File \u001b[1;32mD:\\python\\lib\\site-packages\\pandas\\_libs\\index.pyx:136\u001b[0m, in \u001b[0;36mpandas._libs.index.IndexEngine.get_loc\u001b[1;34m()\u001b[0m\n",
      "File \u001b[1;32mD:\\python\\lib\\site-packages\\pandas\\_libs\\index.pyx:163\u001b[0m, in \u001b[0;36mpandas._libs.index.IndexEngine.get_loc\u001b[1;34m()\u001b[0m\n",
      "File \u001b[1;32mpandas\\_libs\\hashtable_class_helper.pxi:5198\u001b[0m, in \u001b[0;36mpandas._libs.hashtable.PyObjectHashTable.get_item\u001b[1;34m()\u001b[0m\n",
      "File \u001b[1;32mpandas\\_libs\\hashtable_class_helper.pxi:5206\u001b[0m, in \u001b[0;36mpandas._libs.hashtable.PyObjectHashTable.get_item\u001b[1;34m()\u001b[0m\n",
      "\u001b[1;31mKeyError\u001b[0m: 'poi'",
      "\nThe above exception was the direct cause of the following exception:\n",
      "\u001b[1;31mKeyError\u001b[0m                                  Traceback (most recent call last)",
      "Input \u001b[1;32mIn [61]\u001b[0m, in \u001b[0;36m<module>\u001b[1;34m\u001b[0m\n\u001b[0;32m      1\u001b[0m poi\u001b[38;5;241m=\u001b[39m[\u001b[38;5;124m'\u001b[39m\u001b[38;5;124mAfrica\u001b[39m\u001b[38;5;124m'\u001b[39m, \u001b[38;5;124m'\u001b[39m\u001b[38;5;124mAsia\u001b[39m\u001b[38;5;124m'\u001b[39m, \u001b[38;5;124m'\u001b[39m\u001b[38;5;124mEurope\u001b[39m\u001b[38;5;124m'\u001b[39m, \u001b[38;5;124m'\u001b[39m\u001b[38;5;124mNorth America\u001b[39m\u001b[38;5;124m'\u001b[39m, \u001b[38;5;124m'\u001b[39m\u001b[38;5;124mOceania\u001b[39m\u001b[38;5;124m'\u001b[39m,\u001b[38;5;124m'\u001b[39m\u001b[38;5;124mSouth America\u001b[39m\u001b[38;5;124m'\u001b[39m]\n\u001b[1;32m----> 2\u001b[0m \u001b[43mconfirmed_continent\u001b[49m\u001b[43m[\u001b[49m\u001b[38;5;124;43m'\u001b[39;49m\u001b[38;5;124;43mpoi\u001b[39;49m\u001b[38;5;124;43m'\u001b[39;49m\u001b[43m]\u001b[49m\u001b[38;5;241m.\u001b[39mplot(figsize\u001b[38;5;241m=\u001b[39m(\u001b[38;5;241m20\u001b[39m,\u001b[38;5;241m10\u001b[39m), linewidth\u001b[38;5;241m=\u001b[39m\u001b[38;5;241m5\u001b[39m, colormap\u001b[38;5;241m=\u001b[39m\u001b[38;5;124m'\u001b[39m\u001b[38;5;124mbrg\u001b[39m\u001b[38;5;124m'\u001b[39m, fontsize\u001b[38;5;241m=\u001b[39m\u001b[38;5;241m20\u001b[39m)\n",
      "File \u001b[1;32mD:\\python\\lib\\site-packages\\pandas\\core\\frame.py:3505\u001b[0m, in \u001b[0;36mDataFrame.__getitem__\u001b[1;34m(self, key)\u001b[0m\n\u001b[0;32m   3503\u001b[0m \u001b[38;5;28;01mif\u001b[39;00m \u001b[38;5;28mself\u001b[39m\u001b[38;5;241m.\u001b[39mcolumns\u001b[38;5;241m.\u001b[39mnlevels \u001b[38;5;241m>\u001b[39m \u001b[38;5;241m1\u001b[39m:\n\u001b[0;32m   3504\u001b[0m     \u001b[38;5;28;01mreturn\u001b[39;00m \u001b[38;5;28mself\u001b[39m\u001b[38;5;241m.\u001b[39m_getitem_multilevel(key)\n\u001b[1;32m-> 3505\u001b[0m indexer \u001b[38;5;241m=\u001b[39m \u001b[38;5;28;43mself\u001b[39;49m\u001b[38;5;241;43m.\u001b[39;49m\u001b[43mcolumns\u001b[49m\u001b[38;5;241;43m.\u001b[39;49m\u001b[43mget_loc\u001b[49m\u001b[43m(\u001b[49m\u001b[43mkey\u001b[49m\u001b[43m)\u001b[49m\n\u001b[0;32m   3506\u001b[0m \u001b[38;5;28;01mif\u001b[39;00m is_integer(indexer):\n\u001b[0;32m   3507\u001b[0m     indexer \u001b[38;5;241m=\u001b[39m [indexer]\n",
      "File \u001b[1;32mD:\\python\\lib\\site-packages\\pandas\\core\\indexes\\base.py:3623\u001b[0m, in \u001b[0;36mIndex.get_loc\u001b[1;34m(self, key, method, tolerance)\u001b[0m\n\u001b[0;32m   3621\u001b[0m     \u001b[38;5;28;01mreturn\u001b[39;00m \u001b[38;5;28mself\u001b[39m\u001b[38;5;241m.\u001b[39m_engine\u001b[38;5;241m.\u001b[39mget_loc(casted_key)\n\u001b[0;32m   3622\u001b[0m \u001b[38;5;28;01mexcept\u001b[39;00m \u001b[38;5;167;01mKeyError\u001b[39;00m \u001b[38;5;28;01mas\u001b[39;00m err:\n\u001b[1;32m-> 3623\u001b[0m     \u001b[38;5;28;01mraise\u001b[39;00m \u001b[38;5;167;01mKeyError\u001b[39;00m(key) \u001b[38;5;28;01mfrom\u001b[39;00m \u001b[38;5;21;01merr\u001b[39;00m\n\u001b[0;32m   3624\u001b[0m \u001b[38;5;28;01mexcept\u001b[39;00m \u001b[38;5;167;01mTypeError\u001b[39;00m:\n\u001b[0;32m   3625\u001b[0m     \u001b[38;5;66;03m# If we have a listlike key, _check_indexing_error will raise\u001b[39;00m\n\u001b[0;32m   3626\u001b[0m     \u001b[38;5;66;03m#  InvalidIndexError. Otherwise we fall through and re-raise\u001b[39;00m\n\u001b[0;32m   3627\u001b[0m     \u001b[38;5;66;03m#  the TypeError.\u001b[39;00m\n\u001b[0;32m   3628\u001b[0m     \u001b[38;5;28mself\u001b[39m\u001b[38;5;241m.\u001b[39m_check_indexing_error(key)\n",
      "\u001b[1;31mKeyError\u001b[0m: 'poi'"
     ]
    }
   ],
   "source": [
    "poi=['Africa', 'Asia', 'Europe', 'North America', 'Oceania','South America']\n",
    "confirmed_continent['poi'].plot(figsize=(20,10), linewidth=5, colormap='brg', fontsize=20);"
   ]
  },
  {
   "cell_type": "code",
   "execution_count": 4,
   "metadata": {
    "colab": {
     "base_uri": "https://localhost:8080/",
     "height": 627
    },
    "id": "zw4Z2PHt30fO",
    "outputId": "f2974450-c082-46fd-8819-2598119e73d0"
   },
   "outputs": [
    {
     "data": {
      "text/plain": [
       "Text(0.5, 1.0, 'World Covid Infected Cases')"
      ]
     },
     "execution_count": 4,
     "metadata": {},
     "output_type": "execute_result"
    },
    {
     "data": {
      "image/png": "[encoded data removed]",
      "text/plain": [
       "<Figure size 432x288 with 1 Axes>"
      ]
     },
     "metadata": {
      "needs_background": "light"
     },
     "output_type": "display_data"
    }
   ],
   "source": [
    "from dateutil.parser import parse\n",
    "date_str1 = wave_total['date'].values\n",
    "date_arr = []\n",
    "for i in range(len(date_str1)):\n",
    "    date_arr.append(parse(date_str1[i]))\n",
    "sns.lineplot(x = date_arr  , y = wave_total[\"total_cases\"], data = wave_total)\n",
    "sns.set(rc={'figure.figsize':(10,10)})\n",
    "plt.title(\"World Covid Infected Cases\")\n"
   ]
  },
  {
   "cell_type": "code",
   "execution_count": null,
   "metadata": {},
   "outputs": [],
   "source": []
  },
  {
   "cell_type": "markdown",
   "metadata": {
    "id": "vczOkLPKQ7RE"
   },
   "source": [
    "## WORLD COVID FIRST WAVE "
   ]
  },
  {
   "cell_type": "code",
   "execution_count": 5,
   "metadata": {
    "id": "rYrhmoTIRzIT"
   },
   "outputs": [],
   "source": [
    "world_first_wave = orig_df.loc[(orig_df['date'] >='2020-03-22') & (orig_df['date'] < '2021-05-01')]\n",
    "# first_wave.tail()\n",
    "\n",
    "totalcases = world_first_wave['total_cases'].replace(np.nan,0).to_numpy(np.int64)//1000\n",
    "# print(totalcases)"
   ]
  },
  {
   "cell_type": "code",
   "execution_count": 6,
   "metadata": {
    "colab": {
     "base_uri": "https://localhost:8080/",
     "height": 206
    },
    "id": "obTxEEwmXS66",
    "outputId": "6e4fba90-92e2-4d88-b367-13c1f04f0f41"
   },
   "outputs": [
    {
     "data": {
      "text/html": [
       "<div>\n",
       "<style scoped>\n",
       "    .dataframe tbody tr th:only-of-type {\n",
       "        vertical-align: middle;\n",
       "    }\n",
       "\n",
       "    .dataframe tbody tr th {\n",
       "        vertical-align: top;\n",
       "    }\n",
       "\n",
       "    .dataframe thead th {\n",
       "        text-align: right;\n",
       "    }\n",
       "</style>\n",
       "<table border=\"1\" class=\"dataframe\">\n",
       "  <thead>\n",
       "    <tr style=\"text-align: right;\">\n",
       "      <th></th>\n",
       "      <th>date</th>\n",
       "      <th>total_cases</th>\n",
       "    </tr>\n",
       "  </thead>\n",
       "  <tbody>\n",
       "  </tbody>\n",
       "</table>\n",
       "</div>"
      ],
      "text/plain": [
       "Empty DataFrame\n",
       "Columns: [date, total_cases]\n",
       "Index: []"
      ]
     },
     "execution_count": 6,
     "metadata": {},
     "output_type": "execute_result"
    }
   ],
   "source": [
    "wfw = world_first_wave[['date', 'total_cases']]\n",
    "wfw.tail()"
   ]
  },
  {
   "cell_type": "code",
   "execution_count": 7,
   "metadata": {
    "colab": {
     "base_uri": "https://localhost:8080/",
     "height": 605
    },
    "id": "SECf8Vw1aRBn",
    "outputId": "1429860c-eab4-418a-f060-2eff9eaa2825"
   },
   "outputs": [
    {
     "data": {
      "image/png": "[encoded data removed]",
      "text/plain": [
       "<Figure size 720x720 with 1 Axes>"
      ]
     },
     "metadata": {},
     "output_type": "display_data"
    }
   ],
   "source": [
    "\n",
    "date_str3 = wfw['date'].values\n",
    "date_arr3 = []\n",
    "for i in range(len(date_str3)):\n",
    "    date_arr3.append(parse(date_str3[i]))\n",
    "sns.lineplot(x = date_arr3  , y = wfw[\"total_cases\"], data = wfw)\n",
    "sns.set(rc={'figure.figsize':(10,10)})"
   ]
  },
  {
   "cell_type": "markdown",
   "metadata": {
    "id": "UzCxMZi3buS3"
   },
   "source": [
    "# **WORLD SECOND WAVE**:"
   ]
  },
  {
   "cell_type": "code",
   "execution_count": 8,
   "metadata": {
    "id": "o3c0EeoRjBjo"
   },
   "outputs": [],
   "source": [
    "world_second_wave =orig_df.loc[(orig_df['date'] >='2021-06-01') & (orig_df['date'] < '2021-12-31')]\n",
    "# first_wave.tail()\n",
    "totalcases1 = world_second_wave['total_cases'].replace(np.nan,0).to_numpy(np.int64)//1000\n",
    "# print(totalcases)"
   ]
  },
  {
   "cell_type": "code",
   "execution_count": 9,
   "metadata": {
    "colab": {
     "base_uri": "https://localhost:8080/",
     "height": 206
    },
    "id": "-dZu3C_jjJP2",
    "outputId": "384c2d39-f789-4acf-e6f0-40cdce1513ed"
   },
   "outputs": [
    {
     "data": {
      "text/html": [
       "<div>\n",
       "<style scoped>\n",
       "    .dataframe tbody tr th:only-of-type {\n",
       "        vertical-align: middle;\n",
       "    }\n",
       "\n",
       "    .dataframe tbody tr th {\n",
       "        vertical-align: top;\n",
       "    }\n",
       "\n",
       "    .dataframe thead th {\n",
       "        text-align: right;\n",
       "    }\n",
       "</style>\n",
       "<table border=\"1\" class=\"dataframe\">\n",
       "  <thead>\n",
       "    <tr style=\"text-align: right;\">\n",
       "      <th></th>\n",
       "      <th>date</th>\n",
       "      <th>total_cases</th>\n",
       "    </tr>\n",
       "  </thead>\n",
       "  <tbody>\n",
       "  </tbody>\n",
       "</table>\n",
       "</div>"
      ],
      "text/plain": [
       "Empty DataFrame\n",
       "Columns: [date, total_cases]\n",
       "Index: []"
      ]
     },
     "execution_count": 9,
     "metadata": {},
     "output_type": "execute_result"
    }
   ],
   "source": [
    "wsw = world_second_wave[['date', 'total_cases']]\n",
    "wsw.tail()"
   ]
  },
  {
   "cell_type": "code",
   "execution_count": 10,
   "metadata": {
    "colab": {
     "base_uri": "https://localhost:8080/",
     "height": 605
    },
    "id": "H0ldha_9jjGD",
    "outputId": "59b39379-6ebc-4ada-9624-207cd83630aa"
   },
   "outputs": [
    {
     "data": {
      "image/png": "[encoded data removed]",
      "text/plain": [
       "<Figure size 720x720 with 1 Axes>"
      ]
     },
     "metadata": {},
     "output_type": "display_data"
    }
   ],
   "source": [
    "\n",
    "date_str4 = wsw['date'].values\n",
    "date_arr4 = []\n",
    "for i in range(len(date_str4)):\n",
    "    date_arr4.append(parse(date_str4[i]))\n",
    "sns.lineplot(x = date_arr4  , y = wsw[\"total_cases\"], data = wsw)\n",
    "sns.set(rc={'figure.figsize':(10,10)})"
   ]
  },
  {
   "cell_type": "markdown",
   "metadata": {
    "id": "zyhGwoxcks3b"
   },
   "source": [
    "# **WORLD THIRD WAVE**"
   ]
  },
  {
   "cell_type": "code",
   "execution_count": 11,
   "metadata": {
    "id": "9SavtLAYkyvd"
   },
   "outputs": [],
   "source": [
    "world_third_wave =orig_df.loc[(orig_df['date'] >='2022-01-01') & (orig_df['date'] < '2022-3-15')]\n",
    "# first_wave.tail()\n",
    "totalcases1 = world_third_wave['total_cases'].replace(np.nan,0).to_numpy(np.int64)//1000\n",
    "# print(totalcases)"
   ]
  },
  {
   "cell_type": "code",
   "execution_count": 12,
   "metadata": {
    "colab": {
     "base_uri": "https://localhost:8080/",
     "height": 206
    },
    "id": "il-I2vebk34i",
    "outputId": "e16cfc5d-195b-46d6-aa3b-199db062ba77"
   },
   "outputs": [
    {
     "data": {
      "text/html": [
       "<div>\n",
       "<style scoped>\n",
       "    .dataframe tbody tr th:only-of-type {\n",
       "        vertical-align: middle;\n",
       "    }\n",
       "\n",
       "    .dataframe tbody tr th {\n",
       "        vertical-align: top;\n",
       "    }\n",
       "\n",
       "    .dataframe thead th {\n",
       "        text-align: right;\n",
       "    }\n",
       "</style>\n",
       "<table border=\"1\" class=\"dataframe\">\n",
       "  <thead>\n",
       "    <tr style=\"text-align: right;\">\n",
       "      <th></th>\n",
       "      <th>date</th>\n",
       "      <th>total_cases</th>\n",
       "    </tr>\n",
       "  </thead>\n",
       "  <tbody>\n",
       "  </tbody>\n",
       "</table>\n",
       "</div>"
      ],
      "text/plain": [
       "Empty DataFrame\n",
       "Columns: [date, total_cases]\n",
       "Index: []"
      ]
     },
     "execution_count": 12,
     "metadata": {},
     "output_type": "execute_result"
    }
   ],
   "source": [
    "wtw = world_third_wave[['date', 'total_cases']]\n",
    "wtw.tail()"
   ]
  },
  {
   "cell_type": "code",
   "execution_count": 13,
   "metadata": {
    "colab": {
     "base_uri": "https://localhost:8080/",
     "height": 605
    },
    "id": "t1WJFn5Qk8R6",
    "outputId": "13cf4a82-a392-4ba8-d41b-cda2c6ccb3c9"
   },
   "outputs": [
    {
     "data": {
      "image/png": "[encoded data removed]",
      "text/plain": [
       "<Figure size 720x720 with 1 Axes>"
      ]
     },
     "metadata": {},
     "output_type": "display_data"
    }
   ],
   "source": [
    "date_str4 = wtw['date'].values\n",
    "date_arr4 = []\n",
    "for i in range(len(date_str4)):\n",
    "    date_arr4.append(parse(date_str4[i]))\n",
    "sns.lineplot(x = date_arr4  , y = wtw[\"total_cases\"], data = wtw)\n",
    "sns.set(rc={'figure.figsize':(10,10)})"
   ]
  },
  {
   "cell_type": "markdown",
   "metadata": {
    "id": "JCEShiWmv_qF"
   },
   "source": [
    "# **CONTINENT WAVE ANALYSIS**"
   ]
  },
  {
   "cell_type": "code",
   "execution_count": 14,
   "metadata": {
    "id": "ycvLJFhnwHAI"
   },
   "outputs": [],
   "source": [
    "#df_continent = orig_df.loc[orig_df['continent'].str.contains('Asia',na=False)]\n",
    "# df_continent"
   ]
  },
  {
   "cell_type": "code",
   "execution_count": 15,
   "metadata": {
    "id": "9--sWUq87Jik"
   },
   "outputs": [],
   "source": [
    "# wave_continent = df_continent[['date', 'location','total_cases',]]\n",
    "# wave_continent.head()"
   ]
  },
  {
   "cell_type": "code",
   "execution_count": 16,
   "metadata": {
    "colab": {
     "base_uri": "https://localhost:8080/",
     "height": 627
    },
    "id": "dd1MtpWu-dVx",
    "outputId": "dff058d9-b4f3-4486-a03e-85aae440e8b1"
   },
   "outputs": [
    {
     "data": {
      "text/plain": [
       "Text(0.5, 1.0, 'Continent total covid wave')"
      ]
     },
     "execution_count": 16,
     "metadata": {},
     "output_type": "execute_result"
    },
    {
     "data": {
      "image/png": "[encoded data removed]",
      "text/plain": [
       "<Figure size 720x720 with 1 Axes>"
      ]
     },
     "metadata": {},
     "output_type": "display_data"
    }
   ],
   "source": [
    "date_str = orig_df['date'].values\n",
    "date_arr1 = []\n",
    "for i in range(len(date_str)):\n",
    "    date_arr1.append(parse(date_str[i]))\n",
    "sns.lineplot(data=orig_df, x=date_arr1, y=\"total_cases\",  hue=\"continent\", palette=\"bright\", alpha=0.5, sizes=(10, 1500))\n",
    "# sns.color_palette(\"dark\")\n",
    "plt.title(\"Continent total covid wave\")"
   ]
  },
  {
   "cell_type": "markdown",
   "metadata": {
    "id": "PjgWpBKhSb5N"
   },
   "source": [
    "**Conclusion :** According to this plot we have seen that South America has the highest Infected cases. "
   ]
  },
  {
   "cell_type": "markdown",
   "metadata": {
    "id": "78bVlqoAKBB4"
   },
   "source": [
    "# **Continent First wave**"
   ]
  },
  {
   "cell_type": "code",
   "execution_count": 17,
   "metadata": {},
   "outputs": [
    {
     "data": {
      "image/png": "[encoded data removed]",
      "text/plain": [
       "<Figure size 720x720 with 1 Axes>"
      ]
     },
     "metadata": {},
     "output_type": "display_data"
    }
   ],
   "source": [
    "date_str4 = world_first_wave['date'].values\n",
    "date_arr4 = []\n",
    "for i in range(len(date_str3)):\n",
    "    date_arr4.append(parse(date_str4[i]))\n",
    "sns.lineplot(x = date_arr4  , y = world_first_wave[\"total_cases\"], data = world_first_wave, hue=\"continent\", palette=\"bright\")\n",
    "sns.set(rc={'figure.figsize':(10,10)})\n",
    "plt.title(\"Continent First wave covid\")\n",
    "plt.show()"
   ]
  },
  {
   "cell_type": "markdown",
   "metadata": {},
   "source": [
    "# **Continent Second wave**"
   ]
  },
  {
   "cell_type": "code",
   "execution_count": null,
   "metadata": {},
   "outputs": [],
   "source": []
  },
  {
   "cell_type": "markdown",
   "metadata": {
    "id": "13CgQ2W6mP3p"
   },
   "source": [
    "# **INDIA TOTAL WAVES ANALYSIS**"
   ]
  },
  {
   "cell_type": "code",
   "execution_count": 18,
   "metadata": {
    "colab": {
     "base_uri": "https://localhost:8080/",
     "height": 661
    },
    "id": "SMHAJ9sNK5A2",
    "outputId": "f6972389-acd1-4e39-a2f1-8ab4670c92f0"
   },
   "outputs": [
    {
     "data": {
      "text/html": [
       "<div>\n",
       "<style scoped>\n",
       "    .dataframe tbody tr th:only-of-type {\n",
       "        vertical-align: middle;\n",
       "    }\n",
       "\n",
       "    .dataframe tbody tr th {\n",
       "        vertical-align: top;\n",
       "    }\n",
       "\n",
       "    .dataframe thead th {\n",
       "        text-align: right;\n",
       "    }\n",
       "</style>\n",
       "<table border=\"1\" class=\"dataframe\">\n",
       "  <thead>\n",
       "    <tr style=\"text-align: right;\">\n",
       "      <th></th>\n",
       "      <th>iso_code</th>\n",
       "      <th>continent</th>\n",
       "      <th>location</th>\n",
       "      <th>date</th>\n",
       "      <th>total_cases</th>\n",
       "      <th>new_cases</th>\n",
       "      <th>new_cases_smoothed</th>\n",
       "      <th>total_deaths</th>\n",
       "      <th>new_deaths</th>\n",
       "      <th>new_deaths_smoothed</th>\n",
       "      <th>...</th>\n",
       "      <th>female_smokers</th>\n",
       "      <th>male_smokers</th>\n",
       "      <th>handwashing_facilities</th>\n",
       "      <th>hospital_beds_per_thousand</th>\n",
       "      <th>life_expectancy</th>\n",
       "      <th>human_development_index</th>\n",
       "      <th>excess_mortality_cumulative_absolute</th>\n",
       "      <th>excess_mortality_cumulative</th>\n",
       "      <th>excess_mortality</th>\n",
       "      <th>excess_mortality_cumulative_per_million</th>\n",
       "    </tr>\n",
       "  </thead>\n",
       "  <tbody>\n",
       "  </tbody>\n",
       "</table>\n",
       "<p>0 rows × 67 columns</p>\n",
       "</div>"
      ],
      "text/plain": [
       "Empty DataFrame\n",
       "Columns: [iso_code, continent, location, date, total_cases, new_cases, new_cases_smoothed, total_deaths, new_deaths, new_deaths_smoothed, total_cases_per_million, new_cases_per_million, new_cases_smoothed_per_million, total_deaths_per_million, new_deaths_per_million, new_deaths_smoothed_per_million, reproduction_rate, icu_patients, icu_patients_per_million, hosp_patients, hosp_patients_per_million, weekly_icu_admissions, weekly_icu_admissions_per_million, weekly_hosp_admissions, weekly_hosp_admissions_per_million, total_tests, new_tests, total_tests_per_thousand, new_tests_per_thousand, new_tests_smoothed, new_tests_smoothed_per_thousand, positive_rate, tests_per_case, tests_units, total_vaccinations, people_vaccinated, people_fully_vaccinated, total_boosters, new_vaccinations, new_vaccinations_smoothed, total_vaccinations_per_hundred, people_vaccinated_per_hundred, people_fully_vaccinated_per_hundred, total_boosters_per_hundred, new_vaccinations_smoothed_per_million, new_people_vaccinated_smoothed, new_people_vaccinated_smoothed_per_hundred, stringency_index, population, population_density, median_age, aged_65_older, aged_70_older, gdp_per_capita, extreme_poverty, cardiovasc_death_rate, diabetes_prevalence, female_smokers, male_smokers, handwashing_facilities, hospital_beds_per_thousand, life_expectancy, human_development_index, excess_mortality_cumulative_absolute, excess_mortality_cumulative, excess_mortality, excess_mortality_cumulative_per_million]\n",
       "Index: []\n",
       "\n",
       "[0 rows x 67 columns]"
      ]
     },
     "execution_count": 18,
     "metadata": {},
     "output_type": "execute_result"
    }
   ],
   "source": [
    "df_ind = orig_df.loc[orig_df['iso_code'].str.contains('IND')]\n",
    "df_ind"
   ]
  },
  {
   "cell_type": "code",
   "execution_count": 19,
   "metadata": {
    "colab": {
     "base_uri": "https://localhost:8080/",
     "height": 206
    },
    "id": "zj6cNeuoLL6M",
    "outputId": "fa4d5e44-150f-4b4c-e113-25ac2d3d1929"
   },
   "outputs": [
    {
     "data": {
      "text/html": [
       "<div>\n",
       "<style scoped>\n",
       "    .dataframe tbody tr th:only-of-type {\n",
       "        vertical-align: middle;\n",
       "    }\n",
       "\n",
       "    .dataframe tbody tr th {\n",
       "        vertical-align: top;\n",
       "    }\n",
       "\n",
       "    .dataframe thead th {\n",
       "        text-align: right;\n",
       "    }\n",
       "</style>\n",
       "<table border=\"1\" class=\"dataframe\">\n",
       "  <thead>\n",
       "    <tr style=\"text-align: right;\">\n",
       "      <th></th>\n",
       "      <th>date</th>\n",
       "      <th>total_cases</th>\n",
       "    </tr>\n",
       "  </thead>\n",
       "  <tbody>\n",
       "  </tbody>\n",
       "</table>\n",
       "</div>"
      ],
      "text/plain": [
       "Empty DataFrame\n",
       "Columns: [date, total_cases]\n",
       "Index: []"
      ]
     },
     "execution_count": 19,
     "metadata": {},
     "output_type": "execute_result"
    }
   ],
   "source": [
    "wave_india = df_ind[['date', 'total_cases']]\n",
    "wave_india.head()"
   ]
  },
  {
   "cell_type": "code",
   "execution_count": 20,
   "metadata": {
    "colab": {
     "base_uri": "https://localhost:8080/",
     "height": 594
    },
    "id": "b01WN3wexcTz",
    "outputId": "bd597540-65ef-4f0b-8400-0b5f3b6aadfa"
   },
   "outputs": [
    {
     "data": {
      "image/png": "[encoded data removed]",
      "text/plain": [
       "<Figure size 720x720 with 1 Axes>"
      ]
     },
     "metadata": {},
     "output_type": "display_data"
    }
   ],
   "source": [
    "from dateutil.parser import parse\n",
    "date_str = wave_india['date'].values\n",
    "date_arr1 = []\n",
    "for i in range(len(date_str)):\n",
    "    date_arr1.append(parse(date_str[i]))\n",
    "sns.lineplot(x = date_arr1  , y = wave_india[\"total_cases\"].to_numpy(np.int64)//10000 ,data = wave_india )\n",
    "sns.set(rc={'figure.figsize':(10,10)})"
   ]
  },
  {
   "cell_type": "markdown",
   "metadata": {
    "id": "wVwjqguc5ilv"
   },
   "source": [
    "# **India First Wave**"
   ]
  },
  {
   "cell_type": "code",
   "execution_count": 21,
   "metadata": {
    "id": "o-bOq-Ww62OI"
   },
   "outputs": [],
   "source": [
    "wave1 = orig_df.loc[orig_df['iso_code'].str.contains('IND')&(orig_df['date'] >='2020-03-22') & (orig_df['date'] < '2021-05-01')]\n",
    "totalcases =  wave1['total_cases'].replace(np.nan,0).to_numpy(np.int64)//1000\n",
    "#totalcase"
   ]
  },
  {
   "cell_type": "code",
   "execution_count": 22,
   "metadata": {
    "id": "MC2eOqEGBQW7"
   },
   "outputs": [],
   "source": [
    "from dateutil.parser import parse\n",
    "date_st = wave1['date'].values\n",
    "date_ar = []\n",
    "for i in range(len(date_st)):\n",
    "    date_ar.append(parse(date_st[i]))"
   ]
  },
  {
   "cell_type": "code",
   "execution_count": 23,
   "metadata": {
    "colab": {
     "base_uri": "https://localhost:8080/",
     "height": 627
    },
    "id": "XGNvCWwzBSWD",
    "outputId": "fdb941ad-e6db-4b41-a5ff-ebb75d5fc94c"
   },
   "outputs": [
    {
     "data": {
      "image/png": "[encoded data removed]",
      "text/plain": [
       "<Figure size 720x720 with 1 Axes>"
      ]
     },
     "metadata": {},
     "output_type": "display_data"
    }
   ],
   "source": [
    "plt.plot(date_ar, totalcases)\n",
    "plt.xlabel('Date')\n",
    "plt.ylabel('Infected cases ')    \n",
    "plt.title('Covid First Wave')\n",
    "plt.show()"
   ]
  },
  {
   "cell_type": "markdown",
   "metadata": {
    "id": "t-I9IDuFDwe7"
   },
   "source": [
    "# **INDIA SECOND WAVE**"
   ]
  },
  {
   "cell_type": "code",
   "execution_count": 24,
   "metadata": {
    "id": "V5cvlP50Eb-6"
   },
   "outputs": [],
   "source": [
    "wave2 = orig_df.loc[orig_df['iso_code'].str.contains('IND')&(orig_df['date'] >='2021-06-01') & (orig_df['date'] < '2021-12-31')]\n",
    "totalcase =  wave2['total_cases'].to_numpy(np.int64)//1000"
   ]
  },
  {
   "cell_type": "code",
   "execution_count": 25,
   "metadata": {
    "id": "OA5JPHhJE-Ys"
   },
   "outputs": [],
   "source": [
    "from dateutil.parser import parse\n",
    "date_s = wave2['date'].values\n",
    "date_ar = []\n",
    "for i in range(len(date_s)):\n",
    "    date_ar.append(parse(date_s[i]))"
   ]
  },
  {
   "cell_type": "code",
   "execution_count": 26,
   "metadata": {
    "colab": {
     "base_uri": "https://localhost:8080/",
     "height": 627
    },
    "id": "lJn5UTTJFK3i",
    "outputId": "ff4b2443-d036-4f68-ae3c-a8adb06cf3e4"
   },
   "outputs": [
    {
     "data": {
      "image/png": "[encoded data removed]",
      "text/plain": [
       "<Figure size 720x720 with 1 Axes>"
      ]
     },
     "metadata": {},
     "output_type": "display_data"
    }
   ],
   "source": [
    "plt.plot(date_ar, totalcase)\n",
    "plt.xlabel('Date')\n",
    "plt.ylabel('Infected cases ')    \n",
    "plt.title('Covid Second Wave')\n",
    "plt.show()"
   ]
  },
  {
   "cell_type": "markdown",
   "metadata": {
    "id": "uMW8VN2veREK"
   },
   "source": [
    "# **INDIA THIRD WAVE**"
   ]
  },
  {
   "cell_type": "code",
   "execution_count": 27,
   "metadata": {
    "id": "7T8nK9Fbe-5G"
   },
   "outputs": [],
   "source": [
    "wave3 = orig_df.loc[orig_df['iso_code'].str.contains('IND')&(orig_df['date'] >='2022-01-01') & (orig_df['date'] < '2022-3-15')]\n",
    "totalcase =  wave3['total_cases'].to_numpy(np.int64)//1000"
   ]
  },
  {
   "cell_type": "code",
   "execution_count": 28,
   "metadata": {
    "id": "AEHvg-1SfI8s"
   },
   "outputs": [],
   "source": [
    "date_s = wave3['date'].values\n",
    "date_ar = []\n",
    "for i in range(len(date_s)):\n",
    "    date_ar.append(parse(date_s[i]))"
   ]
  },
  {
   "cell_type": "code",
   "execution_count": 29,
   "metadata": {
    "colab": {
     "base_uri": "https://localhost:8080/",
     "height": 627
    },
    "id": "kR4RaovyhOnM",
    "outputId": "4f196962-8d06-41c3-c312-4c93caa95e4f"
   },
   "outputs": [
    {
     "data": {
      "image/png": "[encoded data removed]",
      "text/plain": [
       "<Figure size 720x720 with 1 Axes>"
      ]
     },
     "metadata": {},
     "output_type": "display_data"
    }
   ],
   "source": [
    "plt.plot(date_ar, totalcase)\n",
    "plt.xlabel('Date')\n",
    "plt.ylabel('Infected cases ')    \n",
    "plt.title('Covid Third Wave')\n",
    "plt.show()"
   ]
  }
 ],
 "metadata": {
  "colab": {
   "collapsed_sections": [],
   "name": "CovidAnalysis.ipynb",
   "provenance": []
  },
  "kernelspec": {
   "display_name": "Python 3 (ipykernel)",
   "language": "python",
   "name": "python3"
  },
  "language_info": {
   "codemirror_mode": {
    "name": "ipython",
    "version": 3
   },
   "file_extension": ".py",
   "mimetype": "text/x-python",
   "name": "python",
   "nbconvert_exporter": "python",
   "pygments_lexer": "ipython3",
   "version": "3.10.2"
  }
 },
 "nbformat": 4,
 "nbformat_minor": 1
}
